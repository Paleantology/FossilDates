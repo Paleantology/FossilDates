{
 "cells": [
  {
   "cell_type": "code",
   "execution_count": 1,
   "metadata": {
    "collapsed": false,
    "deletable": true,
    "editable": true
   },
   "outputs": [],
   "source": [
    "import dendropy\n",
    "import pandas as pd\n",
    "import argparse\n",
    "from random import randint"
   ]
  },
  {
   "cell_type": "code",
   "execution_count": 301,
   "metadata": {
    "collapsed": false,
    "deletable": true,
    "editable": true
   },
   "outputs": [],
   "source": [
    "def pull_data_taxon(fossil_df, **kwargs):\n",
    "    '''Pull the oldest fossil in a group. Mandatory: what level (i.e., subfamily, tribe, etc).'''\n",
    "    foss_list = []\n",
    "    for key, value in kwargs.items():\n",
    "        try:\n",
    "          kwargs[\"level\"]\n",
    "        except KeyError:\n",
    "          raise KeyError('level is required is a Required Argument that tells the program from which \\\\\n",
    "                         taxonomic group to sample. Options include subfamily, tribe, genus')  \n",
    "        try:\n",
    "          kwargs[\"age\"]\n",
    "        except KeyError:\n",
    "          raise KeyError('age is required is a Required Argument that specifies how to sample \\\\\n",
    "                          within a taxonomic group. Options include oldest, youngest, random')          \n",
    "        if key == \"level\":\n",
    "            group_key = value.lower()\n",
    "        if key == \"age\":\n",
    "            age_key = value.lower()\n",
    "            if age_key == \"oldest\":\n",
    "                if \"fraction\" in kwargs.keys():\n",
    "                    num_key = kwargs[\"fraction\"]\n",
    "                    oldest_df = fossil_df.groupby(group_key).apply(lambda x: x.nlargest(int(len(x) * num_key), 'max_ma'))[[\"taxon\",\"max_ma\", group_key]]\n",
    "                    print(oldest_df)\n",
    "                    oldest_df.to_csv(\"../Data/fossil_tax_unit.tsv\", sep=\"\\t\", index=False)\n",
    "                    oldest_df = oldest_df.drop(group_key, axis=1) \n",
    "                    oldest_df[[\"taxon\",\"age\"]] = oldest_df[[\"taxon\",\"max_ma\"]]\n",
    "                    oldest_df = oldest_df.drop(\"max_ma\", axis=1) \n",
    "                    oldest_df.to_csv(\"../Data/fossil_sample.tsv\", sep=\"\\t\", index=False)\n",
    "                else:\n",
    "                    oldest_df = fossil_df.groupby([group_key]).max()[[\"max_ma\", \"taxon\"]]\n",
    "                    oldest_df = oldest_df.reset_index()\n",
    "                    oldest_df.to_csv(\"../Data/fossil_tax_unit.tsv\", sep=\"\\t\", index=False)\n",
    "                    oldest_df = oldest_df.drop(group_key, axis=1) \n",
    "                    oldest_df[[\"taxon\",\"age\"]] = oldest_df[[\"taxon\",\"max_ma\"]]\n",
    "                    oldest_df = oldest_df.drop(\"max_ma\", axis=1) \n",
    "                    oldest_df.to_csv(\"../Data/fossil_sample.tsv\", sep=\"\\t\", index=False)\n",
    "            elif age_key == \"youngest\":\n",
    "                if \"fraction\" in kwargs.keys():\n",
    "                    num_key = kwargs[\"fraction\"]\n",
    "                    oldest_df = fossil_df.groupby(group_key).apply(lambda x: x.nsmallest(int(len(x) * num_key), 'max_ma'))[[\"taxon\",\"max_ma\", group_key]]\n",
    "                    #                    oldest_df = oldest_df.reset_index()\n",
    "                    oldest_df.to_csv(\"../Data/fossil_tax_unit.tsv\", sep=\"\\t\", index=False)\n",
    "                    oldest_df = oldest_df.drop(group_key, axis=1) \n",
    "                    oldest_df[[\"taxon\",\"age\"]] = oldest_df[[\"taxon\",\"max_ma\"]]\n",
    "                    oldest_df = oldest_df.drop(\"max_ma\", axis=1) \n",
    "                    oldest_df.to_csv(\"../Data/fossil_sample.tsv\", sep=\"\\t\", index=False)\n",
    "                else:\n",
    "                    oldest_df = fossil_df.groupby([group_key]).min()[[\"max_ma\", \"taxon\"]]\n",
    "                    oldest_df = oldest_df.reset_index()\n",
    "                    oldest_df.to_csv(\"../Data/fossil_tax_unit.tsv\", sep=\"\\t\", index=False)\n",
    "                    oldest_df = oldest_df.drop(group_key, axis=1) \n",
    "                    oldest_df[[\"taxon\",\"age\"]] = oldest_df[[\"taxon\",\"max_ma\"]]\n",
    "                    oldest_df = oldest_df.drop(\"max_ma\", axis=1) \n",
    "                    oldest_df.to_csv(\"../Data/fossil_sample.tsv\", sep=\"\\t\", index=False)\n",
    "            elif age_key == \"random\":                    \n",
    "                if \"fraction\" in kwargs.keys():\n",
    "                    num_key = kwargs[\"fraction\"]\n",
    "                    oldest_df = fossil_df.groupby(group_key).apply(lambda x: x.sample(frac=num_key))[[\"taxon\",\"max_ma\", group_key]]\n",
    "                    oldest_df.to_csv(\"../Data/fossil_tax_unit.tsv\", sep=\"\\t\", index=False)\n",
    "                    oldest_df = oldest_df.drop(group_key, axis=1) \n",
    "                    oldest_df[[\"taxon\",\"age\"]] = oldest_df[[\"taxon\",\"max_ma\"]]\n",
    "                    oldest_df = oldest_df.drop(\"max_ma\", axis=1) \n",
    "                    oldest_df.to_csv(\"../Data/fossil_sample.tsv\", sep=\"\\t\", index=False)                    \n",
    "                else:\n",
    "                    oldest_df = fossil_df.groupby(group_key).apply(lambda x: x.sample(1))[[\"max_ma\", \"taxon\"]]\n",
    "                    oldest_df.to_csv(\"../Data/fossil_tax_unit.tsv\", sep=\"\\t\", index=False)\n",
    "                    oldest_df[[\"taxon\",\"age\"]] = oldest_df[[\"taxon\",\"max_ma\"]]\n",
    "                    oldest_df = oldest_df.drop(\"max_ma\", axis=1) \n",
    "                    oldest_df.to_csv(\"../Data/fossil_sample.tsv\", sep=\"\\t\", index=False)"
   ]
  },
  {
   "cell_type": "code",
   "execution_count": 303,
   "metadata": {
    "collapsed": false,
    "deletable": true,
    "editable": true
   },
   "outputs": [
    {
     "name": "stdout",
     "output_type": "stream",
     "text": [
      "                                         taxon  max_ma          genus\n",
      "genus                                                                \n",
      "Acropyga      196                     Acropyga   20.44       Acropyga\n",
      "Afropone      622             Afropone_oculata   93.90       Afropone\n",
      "Alloiomma     40       Alloiomma_changweiensis   15.97      Alloiomma\n",
      "Anochetus     624           Anochetus_ambiguus   20.44      Anochetus\n",
      "              625      Anochetus_brevidentatus   20.44      Anochetus\n",
      "              626        Anochetus_conisquamis   20.44      Anochetus\n",
      "              627             Anochetus_corayi   20.44      Anochetus\n",
      "Aphaenogaster 473        Aphaenogaster_antiqua   38.00  Aphaenogaster\n",
      "              483          Aphaenogaster_mersa   38.00  Aphaenogaster\n",
      "              484    Aphaenogaster_oligocenica   38.00  Aphaenogaster\n",
      "              489   Aphaenogaster_sommerfeldti   38.00  Aphaenogaster\n",
      "              476   Aphaenogaster_donisthorpei   37.20  Aphaenogaster\n",
      "              482          Aphaenogaster_mayri   37.20  Aphaenogaster\n",
      "              479       Aphaenogaster_longaeva   33.90  Aphaenogaster\n",
      "              481      Aphaenogaster_maculipes   33.90  Aphaenogaster\n",
      "              474       Aphaenogaster_archaica   28.40  Aphaenogaster\n",
      "Apterostigma  490  Apterostigma_electropilosum   20.44   Apterostigma\n",
      "Archaeopone   24       Archaeopone_kzylzharica   93.90    Archaeopone\n",
      "Archimyrmex   450        Archimyrmex_rostratus   50.30    Archimyrmex\n",
      "              452        Archimyrmex_wedmannae   48.60    Archimyrmex\n",
      "Armania       26                       Armania   93.90        Armania\n",
      "              27              Armania_capitata   93.90        Armania\n",
      "Attopsis      492         Attopsis_longipennis   12.70       Attopsis\n",
      "Avitomyrmex   453        Avitomyrmex_elongatus   56.00    Avitomyrmex\n",
      "Azteca        43                        Azteca   23.03         Azteca\n",
      "Baikuris      783             Baikuris_maximus  105.30       Baikuris\n",
      "              781               Baikuris_casei   93.90       Baikuris\n",
      "Biamomyrma    494              Biamomyrma_lata   38.00     Biamomyrma\n",
      "Bilobomyrma   497          Bilobomyrma_baltica   38.00    Bilobomyrma\n",
      "Bradoponera   721                  Bradoponera   38.00    Bradoponera\n",
      "...                                        ...     ...            ...\n",
      "Solenopsites  442         Solenopsites_minutus   50.30   Solenopsites\n",
      "Sphecomyrma   774                  Sphecomyrma   93.90    Sphecomyrma\n",
      "              776            Sphecomyrma_freyi   93.90    Sphecomyrma\n",
      "Stigmatomma   10         Stigmatomma_electrina   38.00    Stigmatomma\n",
      "Strumigenys   603        Strumigenys_electrina   20.44    Strumigenys\n",
      "              604         Strumigenys_pilosula   20.44    Strumigenys\n",
      "Taphopone     715           Taphopone_aberrans   38.00      Taphopone\n",
      "              717         Taphopone_macroptera   38.00      Taphopone\n",
      "              718         Taphopone_microptera   38.00      Taphopone\n",
      "Tapinoma      152            Tapinoma_aberrans   38.00       Tapinoma\n",
      "              154          Tapinoma_electrinum   38.00       Tapinoma\n",
      "              156              Tapinoma_troche   20.44       Tapinoma\n",
      "Technomyrmex  157       Technomyrmex_caritatis   20.44   Technomyrmex\n",
      "              159     Technomyrmex_hispaniolae   20.44   Technomyrmex\n",
      "Temnothorax   607       Temnothorax_glaesarius   38.00    Temnothorax\n",
      "              608         Temnothorax_gracilis   38.00    Temnothorax\n",
      "              609      Temnothorax_hystriculus   38.00    Temnothorax\n",
      "Tetramorium   614         Tetramorium_kulickae   38.00    Tetramorium\n",
      "Tetraponera   748         Tetraponera_europaea   38.00    Tetraponera\n",
      "              749          Tetraponera_groehni   38.00    Tetraponera\n",
      "              751       Tetraponera_lacrimarum   38.00    Tetraponera\n",
      "Titanomyrma   194            Titanomyrma_lubei   55.80    Titanomyrma\n",
      "Vollenhovia   445         Vollenhovia_beyrichi   38.00    Vollenhovia\n",
      "Wilsonia      402       Wilsonia_liaoningensis   55.80       Wilsonia\n",
      "Yantaromyrmex 162    Yantaromyrmex_constrictus   38.00  Yantaromyrmex\n",
      "              164    Yantaromyrmex_intermedius   38.00  Yantaromyrmex\n",
      "Ypresiomyrma  464       Ypresiomyrma_bartletti   56.00   Ypresiomyrma\n",
      "              465      Ypresiomyrma_orbiculata   56.00   Ypresiomyrma\n",
      "Zherichinius  167      Zherichinius_horribilis   47.80   Zherichinius\n",
      "Zigrasimecia  778           Zigrasimecia_ferox   99.60   Zigrasimecia\n",
      "\n",
      "[319 rows x 3 columns]\n"
     ]
    }
   ],
   "source": [
    "pull_data_taxon(fossil_df, level=\"genus\", age=\"oldest\", fraction=.5)"
   ]
  },
  {
   "cell_type": "code",
   "execution_count": 241,
   "metadata": {
    "collapsed": false,
    "deletable": true,
    "editable": true
   },
   "outputs": [
    {
     "ename": "SyntaxError",
     "evalue": "invalid syntax (<ipython-input-241-9b502b2544f4>, line 1)",
     "output_type": "error",
     "traceback": [
      "\u001b[0;36m  File \u001b[0;32m\"<ipython-input-241-9b502b2544f4>\"\u001b[0;36m, line \u001b[0;32m1\u001b[0m\n\u001b[0;31m    def pull_data_proportional\u001b[0m\n\u001b[0m                              ^\u001b[0m\n\u001b[0;31mSyntaxError\u001b[0m\u001b[0;31m:\u001b[0m invalid syntax\n"
     ]
    }
   ],
   "source": [
    "def pull_data_proportional\n",
    "'''Pull fossils relative to number of tips. Mandatory: what level (i.e., subfamily, tribe, etc).'''\n"
   ]
  },
  {
   "cell_type": "code",
   "execution_count": null,
   "metadata": {
    "collapsed": true,
    "deletable": true,
    "editable": true
   },
   "outputs": [],
   "source": [
    "def pull_data_sampling\n",
    "'''Pull fossils relative to time. Mandatory: what type of sample. Options: uniform, diversified, time\n",
    "stratified. If time-stratified, choose the provide a list of time bins.'''\n"
   ]
  },
  {
   "cell_type": "code",
   "execution_count": null,
   "metadata": {
    "collapsed": true,
    "deletable": true,
    "editable": true
   },
   "outputs": [],
   "source": [
    "if __name__ == \"__main__\":\n",
    "\tparser = argparse.ArgumentParser()\n",
    "\n",
    "\tparser.add_argument(\"--fossil\", help=\"Path to the csv of fossils.\")\n",
    "\tparser.add_argument(\"--ages\", help=\"Path to data ages TSV or CSV file containing \\\n",
    "\tages of non-contemporaneous tips, if any exist in your analysis.\")\n",
    "\tparser.add_argument(\"--sample\", help=\"How to sample fossils. Options: oldest, proportional, sampling.\")\n",
    "\tparser.add_argument(\"--output\", help=\"Path to where you'd like to write output\")\n",
    "\targs = parser.parse_args()\n",
    "\tif args.set:\n",
    "\t\tdf = args.set\n",
    "\tif args.ages:\n",
    "\t\ttnrs = args.ages\n",
    "\tif args.output:\n",
    "\t\toutfile = args.output\t\t\n",
    "\t\t\n",
    "\tfoss_tax = parse_dataframe(df)"
   ]
  },
  {
   "cell_type": "code",
   "execution_count": 4,
   "metadata": {
    "collapsed": true,
    "deletable": true,
    "editable": true
   },
   "outputs": [],
   "source": [
    "fossil_df = pd.read_csv(\"../Data/FossilTNRS.csv\")"
   ]
  },
  {
   "cell_type": "code",
   "execution_count": null,
   "metadata": {
    "collapsed": true,
    "deletable": true,
    "editable": true
   },
   "outputs": [],
   "source": []
  }
 ],
 "metadata": {
  "kernelspec": {
   "display_name": "Python 3",
   "language": "python",
   "name": "python3"
  },
  "language_info": {
   "codemirror_mode": {
    "name": "ipython",
    "version": 3
   },
   "file_extension": ".py",
   "mimetype": "text/x-python",
   "name": "python",
   "nbconvert_exporter": "python",
   "pygments_lexer": "ipython3",
   "version": "3.6.0"
  }
 },
 "nbformat": 4,
 "nbformat_minor": 2
}
