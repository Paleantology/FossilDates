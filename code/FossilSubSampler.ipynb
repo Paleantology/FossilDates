{
 "cells": [
  {
   "cell_type": "code",
   "execution_count": 72,
   "metadata": {
    "collapsed": false
   },
   "outputs": [],
   "source": [
    "import dendropy\n",
    "import pandas as pd\n",
    "import argparse\n",
    "from random import randint"
   ]
  },
  {
   "cell_type": "code",
   "execution_count": 169,
   "metadata": {
    "collapsed": false
   },
   "outputs": [],
   "source": [
    "def pull_data_taxon(fossil_df, **kwargs):\n",
    "    '''Pull the oldest fossil in a group. Mandatory: what level (i.e., subfamily, tribe, etc).'''\n",
    "    foss_list = []\n",
    "    for key, value in kwargs.items():\n",
    "        try:\n",
    "          kwargs[\"level\"]\n",
    "        except KeyError:\n",
    "          raise KeyError('level is required is a Required Argument that tells the program from which \\\\\n",
    "                         taxonomic group to sample. Options include subfamily, tribe, genus')  \n",
    "        try:\n",
    "          kwargs[\"age\"]\n",
    "        except KeyError:\n",
    "          raise KeyError('age is required is a Required Argument that specifies how to sample \\\\\n",
    "                          within a taxonomic group. Options include oldest, youngest, random')          \n",
    "        if key == \"level\":\n",
    "            group_key = value.lower()\n",
    "        if key == \"age\":\n",
    "            age_key = value.lower()\n",
    "            if age_key == \"oldest\":\n",
    "                if \"number\" in kwargs.keys():\n",
    "                    num_key = kwargs[\"number\"]\n",
    "                    print(fossil_df.groupby(group_key)[\"max_ma\"].nlargest(num_key | 1))\n",
    "                else:\n",
    "                    print(fossil_df.groupby(group_key).max()[\"max_ma\"])\n",
    "            elif age_key == \"youngest\":\n",
    "                if \"number\" in kwargs.keys():\n",
    "                    num_key = kwargs[\"number\"]\n",
    "                    print(fossil_df.groupby(group_key)[\"max_ma\"].nsmallest(num_key | 1))\n",
    "                else:\n",
    "                    print(fossil_df.groupby(group_key).max()[\"max_ma\"])\n",
    "            elif age_key == \"random\":                    \n",
    "                if \"number\" in kwargs.keys():\n",
    "                    num_key = kwargs[\"number\"]\n",
    "                    print(fossil_df.groupby(group_key).apply(lambda x: x.sample(num_key | 1)))\n",
    "                else:\n",
    "                    print(fossil_df.groupby(group_key).apply(lambda x: x.sample(1)))     \n"
   ]
  },
  {
   "cell_type": "code",
   "execution_count": 171,
   "metadata": {
    "collapsed": false
   },
   "outputs": [
    {
     "name": "stdout",
     "output_type": "stream",
     "text": [
      "genus              \n",
      "Acanthognathus  468    20.440\n",
      "Acanthostichus  169    20.440\n",
      "Acropyga        196    20.440\n",
      "                197    20.440\n",
      "Afromyrma       469    93.900\n",
      "Afropone        622    93.900\n",
      "                623    93.900\n",
      "Agastomyrma     470    38.000\n",
      "Agroecomyrmex   0      38.000\n",
      "Alloiomma       40     15.970\n",
      "                41     15.970\n",
      "Amblyoponini    4      23.030\n",
      "Aneuretellus    12     47.800\n",
      "Anochetus       624    20.440\n",
      "                625    20.440\n",
      "                626    20.440\n",
      "                627    20.440\n",
      "                628    20.440\n",
      "                629    20.440\n",
      "                630    20.440\n",
      "                631    20.440\n",
      "Aphaenogaster   471     7.246\n",
      "                486     7.246\n",
      "                475    15.970\n",
      "                477    15.970\n",
      "                478    15.970\n",
      "                485    15.970\n",
      "                488    15.970\n",
      "                472    20.440\n",
      "                487    23.030\n",
      "                        ...  \n",
      "Tetraponera     749    38.000\n",
      "                751    38.000\n",
      "                752    38.000\n",
      "                754    38.000\n",
      "Titanomyrma     193    48.600\n",
      "                195    48.600\n",
      "                194    55.800\n",
      "Trachymyrmex    616    20.440\n",
      "Usomyrma        161    38.000\n",
      "Veromessor      444     0.300\n",
      "Vollenhovia     445    38.000\n",
      "                446    38.000\n",
      "Wilsonia        402    55.800\n",
      "                403    55.800\n",
      "Wumyrmex        447    55.800\n",
      "Yantaromyrmex   163    33.900\n",
      "                162    38.000\n",
      "                164    38.000\n",
      "                165    38.000\n",
      "                166    38.000\n",
      "Ypresiomyrma    466    38.000\n",
      "                464    56.000\n",
      "                465    56.000\n",
      "                467    56.000\n",
      "Zatania         404    20.440\n",
      "Zhangidris      448    15.970\n",
      "Zherichinius    167    47.800\n",
      "                168    47.800\n",
      "Zigrasimecia    778    99.600\n",
      "                779    99.600\n",
      "Name: max_ma, Length: 621, dtype: float64\n"
     ]
    }
   ],
   "source": [
    "pull_data_taxon(fossil_df, level=\"genus\", age=\"youngest\", number=10)"
   ]
  },
  {
   "cell_type": "code",
   "execution_count": null,
   "metadata": {
    "collapsed": true
   },
   "outputs": [],
   "source": [
    "def pull_data_proportional\n",
    "'''Pull fossils relative to number of tips. Mandatory: what level (i.e., subfamily, tribe, etc).'''\n"
   ]
  },
  {
   "cell_type": "code",
   "execution_count": null,
   "metadata": {
    "collapsed": true
   },
   "outputs": [],
   "source": [
    "def pull_data_sampling\n",
    "'''Pull fossils relative to time. Mandatory: what type of sample. Options: uniform, diversified, time\n",
    "stratified. If time-stratified, choose the provide a list of time bins.'''\n"
   ]
  },
  {
   "cell_type": "code",
   "execution_count": null,
   "metadata": {
    "collapsed": true
   },
   "outputs": [],
   "source": [
    "if __name__ == \"__main__\":\n",
    "\tparser = argparse.ArgumentParser()\n",
    "\n",
    "\tparser.add_argument(\"--fossil\", help=\"Path to the csv of fossils.\")\n",
    "\tparser.add_argument(\"--ages\", help=\"Path to data ages TSV or CSV file containing \\\n",
    "\tages of non-contemporaneous tips, if any exist in your analysis.\")\n",
    "\tparser.add_argument(\"--sample\", help=\"How to sample fossils. Options: oldest, proportional, sampling.\")\n",
    "\tparser.add_argument(\"--output\", help=\"Path to where you'd like to write output\")\n",
    "\targs = parser.parse_args()\n",
    "\tif args.set:\n",
    "\t\tdf = args.set\n",
    "\tif args.ages:\n",
    "\t\ttnrs = args.ages\n",
    "\tif args.output:\n",
    "\t\toutfile = args.output\t\t\n",
    "\t\t\n",
    "\tfoss_tax = parse_dataframe(df)"
   ]
  },
  {
   "cell_type": "code",
   "execution_count": 36,
   "metadata": {
    "collapsed": true
   },
   "outputs": [],
   "source": [
    "fossil_df = pd.read_csv(\"../Data/FossilTNRS.csv\")"
   ]
  },
  {
   "cell_type": "code",
   "execution_count": null,
   "metadata": {
    "collapsed": true
   },
   "outputs": [],
   "source": []
  }
 ],
 "metadata": {
  "kernelspec": {
   "display_name": "Python 3",
   "language": "python",
   "name": "python3"
  },
  "language_info": {
   "codemirror_mode": {
    "name": "ipython",
    "version": 3
   },
   "file_extension": ".py",
   "mimetype": "text/x-python",
   "name": "python",
   "nbconvert_exporter": "python",
   "pygments_lexer": "ipython3",
   "version": "3.6.0"
  }
 },
 "nbformat": 4,
 "nbformat_minor": 2
}
