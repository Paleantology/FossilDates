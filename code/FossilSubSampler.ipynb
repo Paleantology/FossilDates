{
 "cells": [
  {
   "cell_type": "code",
   "execution_count": 1,
   "metadata": {
    "collapsed": false,
    "deletable": true,
    "editable": true
   },
   "outputs": [],
   "source": [
    "import dendropy\n",
    "import pandas as pd\n",
    "import argparse\n",
    "from random import randint"
   ]
  },
  {
   "cell_type": "code",
   "execution_count": 326,
   "metadata": {
    "collapsed": false,
    "deletable": true,
    "editable": true
   },
   "outputs": [],
   "source": [
    "def pull_data_taxon(fossil_df, **kwargs):\n",
    "    '''Pull the oldest fossil in a group. Mandatory: what level (i.e., subfamily, tribe, etc).'''\n",
    "    foss_list = []\n",
    "    for key, value in kwargs.items():\n",
    "        try:\n",
    "          kwargs[\"level\"]\n",
    "        except KeyError:\n",
    "          raise KeyError('level is required is a Required Argument that tells the program from which \\\\\n",
    "                         taxonomic group to sample. Options include subfamily, tribe, genus')  \n",
    "        try:\n",
    "          kwargs[\"age\"]\n",
    "        except KeyError:\n",
    "          raise KeyError('age is required is a Required Argument that specifies how to sample \\\\\n",
    "                          within a taxonomic group. Options include oldest, youngest, random')          \n",
    "        if key == \"level\":\n",
    "            group_key = value.lower()\n",
    "        if key == \"age\":\n",
    "            age_key = value.lower()\n",
    "            if age_key == \"oldest\":\n",
    "                if \"fraction\" in kwargs.keys():\n",
    "                    num_key = kwargs[\"fraction\"]\n",
    "                    oldest_df = fossil_df.groupby(group_key).apply(lambda x: x.nlargest(int(len(x) * num_key), 'max_ma'))[[\"taxon\",\"max_ma\", group_key]]\n",
    "                    oldest_df.to_csv(\"../Data/fossil_tax_unit.tsv\", sep=\"\\t\", index=False)\n",
    "                    oldest_df = oldest_df.drop(group_key, axis=1) \n",
    "                    oldest_df[[\"taxon\",\"age\"]] = oldest_df[[\"taxon\",\"max_ma\"]]\n",
    "                    oldest_df = oldest_df.drop(\"max_ma\", axis=1) \n",
    "                    oldest_df.to_csv(\"../Data/fossil_sample.tsv\", sep=\"\\t\", index=False)\n",
    "                else:\n",
    "                    oldest_df = fossil_df.groupby([group_key]).max()[[\"max_ma\", \"taxon\"]]\n",
    "                    oldest_df = oldest_df.reset_index()\n",
    "                    oldest_df.to_csv(\"../Data/fossil_tax_unit.tsv\", sep=\"\\t\", index=False)\n",
    "                    oldest_df = oldest_df.drop(group_key, axis=1) \n",
    "                    oldest_df[[\"taxon\",\"age\"]] = oldest_df[[\"taxon\",\"max_ma\"]]\n",
    "                    oldest_df = oldest_df.drop(\"max_ma\", axis=1) \n",
    "                    oldest_df.to_csv(\"../Data/fossil_sample.tsv\", sep=\"\\t\", index=False)\n",
    "            elif age_key == \"youngest\":\n",
    "                if \"fraction\" in kwargs.keys():\n",
    "                    num_key = kwargs[\"fraction\"]\n",
    "                    oldest_df = fossil_df.groupby(group_key).apply(lambda x: x.nsmallest(int(len(x) * num_key), 'max_ma'))[[\"taxon\",\"max_ma\", group_key]]\n",
    "                    #                    oldest_df = oldest_df.reset_index()\n",
    "                    oldest_df.to_csv(\"../Data/fossil_tax_unit.tsv\", sep=\"\\t\", index=False)\n",
    "                    oldest_df = oldest_df.drop(group_key, axis=1) \n",
    "                    oldest_df[[\"taxon\",\"age\"]] = oldest_df[[\"taxon\",\"max_ma\"]]\n",
    "                    oldest_df = oldest_df.drop(\"max_ma\", axis=1) \n",
    "                    oldest_df.to_csv(\"../Data/fossil_sample.tsv\", sep=\"\\t\", index=False)\n",
    "                else:\n",
    "                    oldest_df = fossil_df.groupby([group_key]).min()[[\"max_ma\", \"taxon\"]]\n",
    "                    oldest_df = oldest_df.reset_index()\n",
    "                    oldest_df.to_csv(\"../Data/fossil_tax_unit.tsv\", sep=\"\\t\", index=False)\n",
    "                    oldest_df = oldest_df.drop(group_key, axis=1) \n",
    "                    oldest_df[[\"taxon\",\"age\"]] = oldest_df[[\"taxon\",\"max_ma\"]]\n",
    "                    oldest_df = oldest_df.drop(\"max_ma\", axis=1) \n",
    "                    oldest_df.to_csv(\"../Data/fossil_sample.tsv\", sep=\"\\t\", index=False)\n",
    "            elif age_key == \"random\":                    \n",
    "                if \"fraction\" in kwargs.keys():\n",
    "                    num_key = kwargs[\"fraction\"]\n",
    "                    oldest_df = fossil_df.groupby(group_key).apply(lambda x: x.sample(frac=num_key))[[\"taxon\",\"max_ma\", group_key]]\n",
    "                    oldest_df.to_csv(\"../Data/fossil_tax_unit.tsv\", sep=\"\\t\", index=False)\n",
    "                    oldest_df = oldest_df.drop(group_key, axis=1) \n",
    "                    oldest_df[[\"taxon\",\"age\"]] = oldest_df[[\"taxon\",\"max_ma\"]]\n",
    "                    oldest_df = oldest_df.drop(\"max_ma\", axis=1) \n",
    "                    oldest_df.to_csv(\"../Data/fossil_sample.tsv\", sep=\"\\t\", index=False)                    \n",
    "                else:\n",
    "                    oldest_df = fossil_df.groupby(group_key).apply(lambda x: x.sample(1))[[\"max_ma\", \"taxon\"]]\n",
    "                    oldest_df.to_csv(\"../Data/fossil_tax_unit.tsv\", sep=\"\\t\", index=False)\n",
    "                    oldest_df[[\"taxon\",\"age\"]] = oldest_df[[\"taxon\",\"max_ma\"]]\n",
    "                    oldest_df = oldest_df.drop(\"max_ma\", axis=1) \n",
    "                    oldest_df.to_csv(\"../Data/fossil_sample.tsv\", sep=\"\\t\", index=False)"
   ]
  },
  {
   "cell_type": "code",
   "execution_count": 327,
   "metadata": {
    "collapsed": false,
    "deletable": true,
    "editable": true
   },
   "outputs": [],
   "source": [
    "pull_data_taxon(fossil_df, level=\"genus\", age=\"oldest\", fraction=.5)"
   ]
  },
  {
   "cell_type": "code",
   "execution_count": 483,
   "metadata": {
    "collapsed": false,
    "deletable": true,
    "editable": true
   },
   "outputs": [],
   "source": [
    "def pull_data_sampling(fossil_df, **kwargs):\n",
    "    '''Pull fossils relative to time. Mandatory keyword: Strategy. Options: uniform (freq=int), diversified, time\n",
    "    stratified. If time-stratified, must also provide a list of time bins (with time_bins = list or df)'''\n",
    "    oldest = float(fossil_df[[\"max_ma\"]].max())\n",
    "    assert len(kwargs.items()) > 0, \"No required args provided. Must provide sampling strategy. \\\n",
    "                                     Options: uniform, diversified, time stratified.\"\n",
    "    for key, value in kwargs.items():\n",
    "        try:\n",
    "          kwargs[\"strategy\"]\n",
    "        except KeyError:\n",
    "          raise KeyError('strategy is a Required Argument that tells the program how to sample fossils through time. \\\\\n",
    "                          Options: uniform, diversified, time stratified. If time-stratified, provide a list of bins.')  \n",
    "        if \"time-stratified\" in kwargs.values():\n",
    "            try:\n",
    "                kwargs[\"time_bins\"]\n",
    "            except KeyError:\n",
    "                raise KeyError('For time-binned sampling, time bins must be specified withe the time_bins kwarg. \\\n",
    "                                Input may be a list of lists specifying sampling, or a dataframe of time bins') \n",
    "        if key == \"strategy\":\n",
    "            type_key = value.lower()\n",
    "        if type_key == \"uniform\":\n",
    "            if \"freq\" in kwargs.keys():\n",
    "                samp_freq = kwargs[\"freq\"]\n",
    "            else:\n",
    "                samp_freq = .1\n",
    "    bin = float(oldest)*samp_freq\n",
    "    num_bins = round(oldest/bin)\n",
    "    bottom_interval = oldest - bin\n",
    "    l = pd.DataFrame()\n",
    "    for x in range(0,num_bins):\n",
    "        bottom_interval = oldest - (bin*(x+1))\n",
    "        top_interval = oldest - (bin*x)\n",
    "        tmp_df = fossil_df[(fossil_df['max_ma'] >= bottom_interval) & (fossil_df['max_ma'] <= top_interval)]\n",
    "        if len(tmp_df) > 1:\n",
    "            if \"number\" in kwargs:\n",
    "                numb = kwargs[\"number\"]\n",
    "                if len(tmp_df) >= numb:\n",
    "                    l = l.append(tmp_df.sample(numb))\n",
    "                else:\n",
    "                    l = l.append(tmp_df.sample(len(tmp_df)))\n",
    "            else: \n",
    "                l = l.append(tmp_df.sample(1)) \n",
    "        else:\n",
    "            pass\n",
    "    l = l.drop(['notes', 'reference_no', 'tribe', 'min_ma', 'fossil'], axis=1)\n",
    "    l[[\"taxon\",\"age\", \"subfamily\", \"genus\"]] = l[[\"taxon\",\"max_ma\", \"subfamily\", \"genus\"]]\n",
    "    l.to_csv(\"../Data/fossil_tax_unit.tsv\", index=False)\n",
    "    l = l.drop(['subfamily', 'genus','max_ma'], axis=1)\n",
    "    l.to_csv(\"../Data/fossil_sample.tsv\", index=False)"
   ]
  },
  {
   "cell_type": "code",
   "execution_count": 484,
   "metadata": {
    "collapsed": false
   },
   "outputs": [],
   "source": [
    "pull_data_sampling(fossil_df, strategy=\"uniform\", freq=.1, number=3)"
   ]
  },
  {
   "cell_type": "code",
   "execution_count": null,
   "metadata": {
    "collapsed": true
   },
   "outputs": [],
   "source": [
    "Make clade constraints"
   ]
  },
  {
   "cell_type": "code",
   "execution_count": null,
   "metadata": {
    "collapsed": true,
    "deletable": true,
    "editable": true
   },
   "outputs": [],
   "source": [
    "if __name__ == \"__main__\":\n",
    "\tparser = argparse.ArgumentParser()\n",
    "\n",
    "\tparser.add_argument(\"--fossil\", help=\"Path to the csv of fossils.\")\n",
    "\tparser.add_argument(\"--ages\", help=\"Path to data ages TSV or CSV file containing \\\n",
    "\tages of non-contemporaneous tips, if any exist in your analysis.\")\n",
    "\tparser.add_argument(\"--sample\", help=\"How to sample fossils. Options: oldest, proportional, sampling.\")\n",
    "\tparser.add_argument(\"--output\", help=\"Path to where you'd like to write output\")\n",
    "\targs = parser.parse_args()\n",
    "\tif args.set:\n",
    "\t\tdf = args.set\n",
    "\tif args.ages:\n",
    "\t\ttnrs = args.ages\n",
    "\tif args.output:\n",
    "\t\toutfile = args.output\t\t\n",
    "\t\t\n",
    "\tfoss_tax = parse_dataframe(df)"
   ]
  },
  {
   "cell_type": "code",
   "execution_count": 4,
   "metadata": {
    "collapsed": true,
    "deletable": true,
    "editable": true
   },
   "outputs": [],
   "source": [
    "fossil_df = pd.read_csv(\"../Data/FossilTNRS.csv\")"
   ]
  },
  {
   "cell_type": "code",
   "execution_count": null,
   "metadata": {
    "collapsed": true,
    "deletable": true,
    "editable": true
   },
   "outputs": [],
   "source": []
  }
 ],
 "metadata": {
  "kernelspec": {
   "display_name": "Python 3",
   "language": "python",
   "name": "python3"
  },
  "language_info": {
   "codemirror_mode": {
    "name": "ipython",
    "version": 3
   },
   "file_extension": ".py",
   "mimetype": "text/x-python",
   "name": "python",
   "nbconvert_exporter": "python",
   "pygments_lexer": "ipython3",
   "version": "3.6.0"
  }
 },
 "nbformat": 4,
 "nbformat_minor": 2
}
