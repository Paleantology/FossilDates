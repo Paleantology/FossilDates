{
 "cells": [
  {
   "cell_type": "code",
   "execution_count": 12,
   "metadata": {},
   "outputs": [],
   "source": [
    "import pandas as pd\n",
    "import numpy as np"
   ]
  },
  {
   "cell_type": "code",
   "execution_count": 8,
   "metadata": {},
   "outputs": [],
   "source": [
    "def taxon_sample(df, taxon):\n",
    "    df = pd.read_csv(df)\n",
    "    grouped = df.dropna(axis=0, subset=[taxon])\n",
    "    grouped = sample_n(grouped, size=10, replace = FALSE)\n",
    "    grouped = grouped.drop_duplicates(subset=[taxon], keep='first')    \n",
    "    return grouped\n"
   ]
  },
  {
   "cell_type": "code",
   "execution_count": 9,
   "metadata": {},
   "outputs": [
    {
     "ename": "NameError",
     "evalue": "name 'sample_n' is not defined",
     "output_type": "error",
     "traceback": [
      "\u001b[0;31m---------------------------------------------------------------------------\u001b[0m",
      "\u001b[0;31mNameError\u001b[0m                                 Traceback (most recent call last)",
      "\u001b[0;32m<ipython-input-9-8a84e23b35fb>\u001b[0m in \u001b[0;36m<module>\u001b[0;34m()\u001b[0m\n\u001b[1;32m      6\u001b[0m     \u001b[0mtip_age\u001b[0m\u001b[0;34m.\u001b[0m\u001b[0mto_csv\u001b[0m\u001b[0;34m(\u001b[0m\u001b[0;34m\"../Data/taxa_sample_3.tsv\"\u001b[0m\u001b[0;34m,\u001b[0m \u001b[0msep\u001b[0m\u001b[0;34m=\u001b[0m\u001b[0;34m'\\t'\u001b[0m\u001b[0;34m,\u001b[0m \u001b[0mindex\u001b[0m \u001b[0;34m=\u001b[0m\u001b[0;32mFalse\u001b[0m\u001b[0;34m)\u001b[0m\u001b[0;34m\u001b[0m\u001b[0m\n\u001b[1;32m      7\u001b[0m     \u001b[0;32mreturn\u001b[0m\u001b[0;34m(\u001b[0m\u001b[0mnew_group\u001b[0m\u001b[0;34m)\u001b[0m\u001b[0;34m\u001b[0m\u001b[0m\n\u001b[0;32m----> 8\u001b[0;31m \u001b[0mtaxa_file\u001b[0m\u001b[0;34m(\u001b[0m\u001b[0;34m'SubFamily'\u001b[0m\u001b[0;34m,\u001b[0m \u001b[0;34m'SpecimenName'\u001b[0m\u001b[0;34m,\u001b[0m \u001b[0;34m'min_yr'\u001b[0m\u001b[0;34m,\u001b[0m \u001b[0;34m'max_yr'\u001b[0m\u001b[0;34m,\u001b[0m \u001b[0;34m'taxon'\u001b[0m\u001b[0;34m,\u001b[0m \u001b[0;34m'age'\u001b[0m\u001b[0;34m)\u001b[0m\u001b[0;34m\u001b[0m\u001b[0m\n\u001b[0m",
      "\u001b[0;32m<ipython-input-9-8a84e23b35fb>\u001b[0m in \u001b[0;36mtaxa_file\u001b[0;34m(group_rank, name_column, min_column, max_column, new_taxon_column_name, new_age_column)\u001b[0m\n\u001b[1;32m      1\u001b[0m \u001b[0;32mdef\u001b[0m \u001b[0mtaxa_file\u001b[0m\u001b[0;34m(\u001b[0m\u001b[0mgroup_rank\u001b[0m\u001b[0;34m,\u001b[0m \u001b[0mname_column\u001b[0m\u001b[0;34m,\u001b[0m \u001b[0mmin_column\u001b[0m\u001b[0;34m,\u001b[0m \u001b[0mmax_column\u001b[0m\u001b[0;34m,\u001b[0m \u001b[0mnew_taxon_column_name\u001b[0m\u001b[0;34m,\u001b[0m \u001b[0mnew_age_column\u001b[0m\u001b[0;34m)\u001b[0m\u001b[0;34m:\u001b[0m\u001b[0;34m\u001b[0m\u001b[0m\n\u001b[0;32m----> 2\u001b[0;31m     \u001b[0mgrouped\u001b[0m \u001b[0;34m=\u001b[0m \u001b[0mtaxon_sample\u001b[0m\u001b[0;34m(\u001b[0m\u001b[0;34m'../Data/higher_taxa.csv'\u001b[0m\u001b[0;34m,\u001b[0m \u001b[0mgroup_rank\u001b[0m\u001b[0;34m)\u001b[0m\u001b[0;34m\u001b[0m\u001b[0m\n\u001b[0m\u001b[1;32m      3\u001b[0m     \u001b[0mnew_group\u001b[0m \u001b[0;34m=\u001b[0m \u001b[0mgrouped\u001b[0m\u001b[0;34m[\u001b[0m\u001b[0;34m[\u001b[0m\u001b[0mname_column\u001b[0m\u001b[0;34m,\u001b[0m \u001b[0mmin_column\u001b[0m\u001b[0;34m,\u001b[0m \u001b[0mmax_column\u001b[0m\u001b[0;34m]\u001b[0m\u001b[0;34m]\u001b[0m\u001b[0;34m\u001b[0m\u001b[0m\n\u001b[1;32m      4\u001b[0m     \u001b[0mtip_age\u001b[0m \u001b[0;34m=\u001b[0m \u001b[0mgrouped\u001b[0m\u001b[0;34m[\u001b[0m\u001b[0;34m[\u001b[0m\u001b[0mname_column\u001b[0m\u001b[0;34m,\u001b[0m \u001b[0mmax_column\u001b[0m\u001b[0;34m]\u001b[0m\u001b[0;34m]\u001b[0m\u001b[0;34m\u001b[0m\u001b[0m\n\u001b[1;32m      5\u001b[0m     \u001b[0mtip_age\u001b[0m\u001b[0;34m.\u001b[0m\u001b[0mcolumns\u001b[0m \u001b[0;34m=\u001b[0m \u001b[0;34m[\u001b[0m\u001b[0mnew_taxon_column_name\u001b[0m\u001b[0;34m,\u001b[0m \u001b[0mnew_age_column\u001b[0m\u001b[0;34m]\u001b[0m\u001b[0;34m\u001b[0m\u001b[0m\n",
      "\u001b[0;32m<ipython-input-8-f564d11d9ef8>\u001b[0m in \u001b[0;36mtaxon_sample\u001b[0;34m(df, taxon)\u001b[0m\n\u001b[1;32m      2\u001b[0m     \u001b[0mdf\u001b[0m \u001b[0;34m=\u001b[0m \u001b[0mpd\u001b[0m\u001b[0;34m.\u001b[0m\u001b[0mread_csv\u001b[0m\u001b[0;34m(\u001b[0m\u001b[0mdf\u001b[0m\u001b[0;34m)\u001b[0m\u001b[0;34m\u001b[0m\u001b[0m\n\u001b[1;32m      3\u001b[0m     \u001b[0mgrouped\u001b[0m \u001b[0;34m=\u001b[0m \u001b[0mdf\u001b[0m\u001b[0;34m.\u001b[0m\u001b[0mdropna\u001b[0m\u001b[0;34m(\u001b[0m\u001b[0maxis\u001b[0m\u001b[0;34m=\u001b[0m\u001b[0;36m0\u001b[0m\u001b[0;34m,\u001b[0m \u001b[0msubset\u001b[0m\u001b[0;34m=\u001b[0m\u001b[0;34m[\u001b[0m\u001b[0mtaxon\u001b[0m\u001b[0;34m]\u001b[0m\u001b[0;34m)\u001b[0m\u001b[0;34m\u001b[0m\u001b[0m\n\u001b[0;32m----> 4\u001b[0;31m     \u001b[0mgrouped\u001b[0m \u001b[0;34m=\u001b[0m \u001b[0msample_n\u001b[0m\u001b[0;34m(\u001b[0m\u001b[0mgrouped\u001b[0m\u001b[0;34m,\u001b[0m \u001b[0msize\u001b[0m\u001b[0;34m=\u001b[0m\u001b[0;36m10\u001b[0m\u001b[0;34m,\u001b[0m \u001b[0mreplace\u001b[0m \u001b[0;34m=\u001b[0m \u001b[0mFALSE\u001b[0m\u001b[0;34m)\u001b[0m\u001b[0;34m\u001b[0m\u001b[0m\n\u001b[0m\u001b[1;32m      5\u001b[0m     \u001b[0mgrouped\u001b[0m \u001b[0;34m=\u001b[0m \u001b[0mgrouped\u001b[0m\u001b[0;34m.\u001b[0m\u001b[0mdrop_duplicates\u001b[0m\u001b[0;34m(\u001b[0m\u001b[0msubset\u001b[0m\u001b[0;34m=\u001b[0m\u001b[0;34m[\u001b[0m\u001b[0mtaxon\u001b[0m\u001b[0;34m]\u001b[0m\u001b[0;34m,\u001b[0m \u001b[0mkeep\u001b[0m\u001b[0;34m=\u001b[0m\u001b[0;34m'first'\u001b[0m\u001b[0;34m)\u001b[0m\u001b[0;34m\u001b[0m\u001b[0m\n\u001b[1;32m      6\u001b[0m     \u001b[0;32mreturn\u001b[0m \u001b[0mgrouped\u001b[0m\u001b[0;34m\u001b[0m\u001b[0m\n",
      "\u001b[0;31mNameError\u001b[0m: name 'sample_n' is not defined"
     ]
    }
   ],
   "source": [
    "def taxa_file(group_rank, name_column, min_column, max_column, new_taxon_column_name, new_age_column):\n",
    "    grouped = taxon_sample('../Data/higher_taxa.csv', group_rank)\n",
    "    new_group = grouped[[name_column, min_column, max_column]]\n",
    "    tip_age = grouped[[name_column, max_column]]\n",
    "    tip_age.columns = [new_taxon_column_name, new_age_column]\n",
    "    tip_age.to_csv(\"../Data/taxa_sample_3.tsv\", sep='\\t', index =False)\n",
    "    return(new_group)\n",
    "taxa_file('SubFamily', 'SpecimenName', 'min_yr', 'max_yr', 'taxon', 'age')"
   ]
  },
  {
   "cell_type": "code",
   "execution_count": 4,
   "metadata": {},
   "outputs": [],
   "source": [
    "def final_ages(taxa_df, morph_df, mol_df, final_df):\n",
    "    tip_age = pd.read_csv(taxa_df, sep='\\t')\n",
    "    morph_temp = pd.read_csv(morph_df, sep='\\t')\n",
    "    morph_temp = morph_temp[['taxon', 'age']]\n",
    "    mol_temp = pd.read_csv(mol_df, sep='\\t')\n",
    "    stacked = pd.concat([morph_temp, mol_temp, tip_age])\n",
    "    final_tip_age = stacked.drop_duplicates('taxon')\n",
    "    final_tip_age.to_csv(final_df, sep = '\\t', index=False)\n",
    "final_ages(\"../Data/taxa_sample.tsv\", \"../Data/taxa_template.tsv\", \"../Data/Mol/mol_df.tsv\", \"../Data/final_tip_ages.tsv\")"
   ]
  },
  {
   "cell_type": "code",
   "execution_count": 5,
   "metadata": {},
   "outputs": [],
   "source": [
    "sample = taxa_file('SubFamily', 'SpecimenName', 'min_yr', 'max_yr', 'taxon', 'age')\n",
    "morph_temp = pd.read_csv(\"../Data/taxa_template.tsv\", sep='\\t') \n",
    "\n",
    "def foss_int(sample, morph_df):\n",
    "    morph_slim = morph_df[['taxon', 'min_yr', 'max_yr']]\n",
    "    morph_slim.columns = ['SpecimenName', 'min_yr', 'max_yr']\n",
    "    morph_df = morph_slim[morph_slim.min_yr != 0.00]\n",
    "    stacked = pd.concat([sample, morph_df])\n",
    "    stacked.columns = ['taxon', 'min', 'max']\n",
    "    stacked.to_csv(\"../Data/foss_int.tsv\", sep='\\t', index =False)\n",
    "\n",
    "foss_int(sample, morph_temp)"
   ]
  },
  {
   "cell_type": "code",
   "execution_count": null,
   "metadata": {
    "collapsed": true
   },
   "outputs": [],
   "source": []
  },
  {
   "cell_type": "code",
   "execution_count": null,
   "metadata": {
    "collapsed": true
   },
   "outputs": [],
   "source": []
  },
  {
   "cell_type": "code",
   "execution_count": null,
   "metadata": {
    "collapsed": true
   },
   "outputs": [],
   "source": []
  }
 ],
 "metadata": {
  "kernelspec": {
   "display_name": "Python 3",
   "language": "python",
   "name": "python3"
  },
  "language_info": {
   "codemirror_mode": {
    "name": "ipython",
    "version": 3
   },
   "file_extension": ".py",
   "mimetype": "text/x-python",
   "name": "python",
   "nbconvert_exporter": "python",
   "pygments_lexer": "ipython3",
   "version": "3.6.5"
  },
  "latex_envs": {
   "LaTeX_envs_menu_present": true,
   "autoclose": false,
   "autocomplete": true,
   "bibliofile": "biblio.bib",
   "cite_by": "apalike",
   "current_citInitial": 1,
   "eqLabelWithNumbers": true,
   "eqNumInitial": 1,
   "hotkeys": {
    "equation": "Ctrl-E",
    "itemize": "Ctrl-I"
   },
   "labels_anchors": false,
   "latex_user_defs": false,
   "report_style_numbering": true,
   "user_envs_cfg": false
  },
  "toc": {
   "base_numbering": 1,
   "nav_menu": {},
   "number_sections": true,
   "sideBar": true,
   "skip_h1_title": false,
   "title_cell": "Table of Contents",
   "title_sidebar": "Contents",
   "toc_cell": false,
   "toc_position": {},
   "toc_section_display": true,
   "toc_window_display": false
  }
 },
 "nbformat": 4,
 "nbformat_minor": 2
}
