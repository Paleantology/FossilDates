{
 "cells": [
  {
   "cell_type": "code",
   "execution_count": null,
   "metadata": {},
   "outputs": [],
   "source": [
    "import pandas as pd\n",
    "import numpy as np\n",
    "import dendropy"
   ]
  },
  {
   "cell_type": "code",
   "execution_count": null,
   "metadata": {},
   "outputs": [],
   "source": [
    "def taxon_sample(df, taxon):\n",
    "    df = pd.read_csv(df)\n",
    "    grouped = df.dropna(axis=0, subset=[taxon])\n",
    "    grouped.apply(lambda x: x.sample(n=1))\n",
    "    grouped = grouped.drop_duplicates(subset=[taxon], keep='first')    \n",
    "    return grouped\n"
   ]
  },
  {
   "cell_type": "code",
   "execution_count": null,
   "metadata": {},
   "outputs": [],
   "source": []
  },
  {
   "cell_type": "code",
   "execution_count": null,
   "metadata": {},
   "outputs": [],
   "source": [
    "def taxa_file(group_rank, name_column, min_column, max_column, new_taxon_column_name, new_age_column):\n",
    "    grouped = taxon_sample('../Data/higher_taxa.csv', group_rank)\n",
    "    new_group = grouped[[name_column, min_column, max_column]]\n",
    "    tip_age = grouped[[name_column, max_column]]\n",
    "    tip_age.columns = [new_taxon_column_name, new_age_column]\n",
    "    tip_age.to_csv(\"../Data/taxa_sample.tsv\", sep='\\t', index =False)\n",
    "    return(new_group)\n",
    "taxa_file('SubFamily', 'SpecimenName', 'min_yr', 'max_yr', 'taxon', 'age')"
   ]
  },
  {
   "cell_type": "code",
   "execution_count": null,
   "metadata": {},
   "outputs": [],
   "source": [
    "def final_ages(taxa_df, morph_df, mol_df, final_df):\n",
    "    tip_age = pd.read_csv(taxa_df, sep='\\t')\n",
    "    morph_temp = pd.read_csv(morph_df, sep='\\t')\n",
    "    morph_temp = morph_temp[['taxon', 'age']]\n",
    "    mol_temp = pd.read_csv(mol_df, sep='\\t')\n",
    "    stacked = pd.concat([morph_temp, mol_temp, tip_age])\n",
    "    final_tip_age = stacked.drop_duplicates('taxon')\n",
    "    final_tip_age.to_csv(final_df, sep = '\\t', index=False)\n",
    "final_ages(\"../Data/taxa_sample.tsv\", \"../Data/taxa_template.tsv.csv\", \"../Data/Mol/mol_df.tsv\", \"../Data/final_tip_ages.tsv\")"
   ]
  },
  {
   "cell_type": "code",
   "execution_count": null,
   "metadata": {},
   "outputs": [],
   "source": [
    "sample = taxa_file('SubFamily', 'SpecimenName', 'min_yr', 'max_yr', 'taxon', 'age')\n",
    "morph_temp = pd.read_csv(\"../Data/taxa_template.tsv.csv\", sep='\\t') \n",
    "\n",
    "def foss_int(sample, morph_df):\n",
    "    morph_slim = morph_df[['taxon', 'min_yr', 'max_yr']]\n",
    "    morph_slim.columns = ['SpecimenName', 'min_yr', 'max_yr']\n",
    "    morph_df = morph_slim[morph_slim.min_yr != 0.00]\n",
    "    stacked = pd.concat([sample, morph_df])\n",
    "    stacked.columns = ['taxon', 'min', 'max']\n",
    "    stacked.to_csv(\"../Data/foss_int.tsv\", sep='\\t', index =False)\n",
    "\n",
    "foss_int(sample, morph_temp)"
   ]
  },
  {
   "cell_type": "code",
   "execution_count": null,
   "metadata": {},
   "outputs": [],
   "source": []
  }
 ],
 "metadata": {
  "kernelspec": {
   "display_name": "Python 3",
   "language": "python",
   "name": "python3"
  },
  "language_info": {
   "codemirror_mode": {
    "name": "ipython",
    "version": 3
   },
   "file_extension": ".py",
   "mimetype": "text/x-python",
   "name": "python",
   "nbconvert_exporter": "python",
   "pygments_lexer": "ipython3",
   "version": "3.6.8"
  },
  "latex_envs": {
   "LaTeX_envs_menu_present": true,
   "autoclose": false,
   "autocomplete": true,
   "bibliofile": "biblio.bib",
   "cite_by": "apalike",
   "current_citInitial": 1,
   "eqLabelWithNumbers": true,
   "eqNumInitial": 1,
   "hotkeys": {
    "equation": "Ctrl-E",
    "itemize": "Ctrl-I"
   },
   "labels_anchors": false,
   "latex_user_defs": false,
   "report_style_numbering": true,
   "user_envs_cfg": false
  },
  "toc": {
   "base_numbering": 1,
   "nav_menu": {},
   "number_sections": true,
   "sideBar": true,
   "skip_h1_title": false,
   "title_cell": "Table of Contents",
   "title_sidebar": "Contents",
   "toc_cell": false,
   "toc_position": {},
   "toc_section_display": true,
   "toc_window_display": false
  }
 },
 "nbformat": 4,
 "nbformat_minor": 2
}
