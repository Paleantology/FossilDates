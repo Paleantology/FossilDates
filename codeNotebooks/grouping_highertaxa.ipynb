{
 "cells": [
  {
   "cell_type": "code",
   "execution_count": 2,
   "metadata": {},
   "outputs": [],
   "source": [
    "import pandas as pd\n",
    "import numpy as np\n",
    "import dendropy"
   ]
  },
  {
   "cell_type": "code",
   "execution_count": 127,
   "metadata": {},
   "outputs": [
    {
     "name": "stdout",
     "output_type": "stream",
     "text": [
      "16\n"
     ]
    }
   ],
   "source": [
    "def taxon_sample(df, taxon):\n",
    "    df = pd.read_csv(df)\n",
    "    grouped = df.dropna(axis=0, subset=[taxon])\n",
    "    grouped.apply(lambda x: x.sample(n=1))\n",
    "#    grouped.apply(lambda y: y.to_csv(filepath))\n",
    "    grouped = grouped.drop_duplicates(subset=[taxon], keep='first')\n",
    "    print(len(grouped))\n",
    "    \n",
    "    return grouped\n"
   ]
  },
  {
   "cell_type": "code",
   "execution_count": null,
   "metadata": {},
   "outputs": [],
   "source": [
    "grouped = taxon_sample('../Data/higher_taxa.csv', 'SubFamily')\n",
    "new_group = grouped[['SpecimenName', 'min_yr', 'max_yr']]\n",
    "tip_age = grouped[['SpecimenName', 'max_yr']]\n",
    "tip_age.columns = [\"taxon\", \"age\"]\n",
    "new_group.to_csv(\"../Data/export.csv\", sep='\\t', index =False)\n",
    "morph_temp = pd.read_csv(\"../Data/taxa_template.tsv\", sep='\\t')\n",
    "mol_temp = pd.read_csv(\"../Data/Mol/mol_df.tsv\", sep='\\t')\n",
    "stacked = pd.concat([morph_temp, mol_df, tip_age])\n",
    "final_tip_age = stacked.drop_duplicates('taxon')\n",
    "final_tip_age.to_csv(\"final_tip_ages.tsv\", sep = '\\t', index=False)"
   ]
  },
  {
   "cell_type": "code",
   "execution_count": 103,
   "metadata": {},
   "outputs": [],
   "source": []
  },
  {
   "cell_type": "code",
   "execution_count": 128,
   "metadata": {},
   "outputs": [],
   "source": []
  },
  {
   "cell_type": "code",
   "execution_count": 129,
   "metadata": {},
   "outputs": [],
   "source": []
  },
  {
   "cell_type": "code",
   "execution_count": 132,
   "metadata": {},
   "outputs": [],
   "source": []
  },
  {
   "cell_type": "code",
   "execution_count": null,
   "metadata": {},
   "outputs": [],
   "source": []
  }
 ],
 "metadata": {
  "kernelspec": {
   "display_name": "Python 3",
   "language": "python",
   "name": "python3"
  },
  "language_info": {
   "codemirror_mode": {
    "name": "ipython",
    "version": 3
   },
   "file_extension": ".py",
   "mimetype": "text/x-python",
   "name": "python",
   "nbconvert_exporter": "python",
   "pygments_lexer": "ipython3",
   "version": "3.6.8"
  },
  "latex_envs": {
   "LaTeX_envs_menu_present": true,
   "autoclose": false,
   "autocomplete": true,
   "bibliofile": "biblio.bib",
   "cite_by": "apalike",
   "current_citInitial": 1,
   "eqLabelWithNumbers": true,
   "eqNumInitial": 1,
   "hotkeys": {
    "equation": "Ctrl-E",
    "itemize": "Ctrl-I"
   },
   "labels_anchors": false,
   "latex_user_defs": false,
   "report_style_numbering": true,
   "user_envs_cfg": false
  },
  "toc": {
   "base_numbering": 1,
   "nav_menu": {},
   "number_sections": true,
   "sideBar": true,
   "skip_h1_title": false,
   "title_cell": "Table of Contents",
   "title_sidebar": "Contents",
   "toc_cell": false,
   "toc_position": {},
   "toc_section_display": true,
   "toc_window_display": false
  }
 },
 "nbformat": 4,
 "nbformat_minor": 2
}
